{
 "cells": [
  {
   "cell_type": "markdown",
   "metadata": {},
   "source": [
    "# Простая модель Перцептрона для распознавания крестиков/ноликов"
   ]
  },
  {
   "cell_type": "code",
   "execution_count": 1,
   "metadata": {},
   "outputs": [],
   "source": [
    "# Подключаемые библиотеки для вывода изображения\n",
    "import numpy as np\n",
    "import matplotlib.pyplot as plt\n",
    "from IPython.display import Image\n",
    "from tensorflow.keras.preprocessing import image\n",
    "import warnings\n",
    "warnings.filterwarnings(\"ignore\") "
   ]
  },
  {
   "cell_type": "code",
   "execution_count": 9,
   "metadata": {},
   "outputs": [],
   "source": [
    "\"\"\"Данные\"\"\"\n",
    "\n",
    "# Названия классов\n",
    "classes = ['Нолик', 'Крестик']\n",
    "X_train = []\n",
    "\n",
    "def transformation(path):\n",
    "    \"\"\"Метод возвращающий отредактированное изображение в виде вектора.\"\"\"\n",
    "    img = image.load_img(path, target_size=(50, 50), grayscale=True)\n",
    "    # Преобразуем картинку в массив\n",
    "    x = image.img_to_array(img)\n",
    "    # Меняем форму массива на плоский вектор\n",
    "    x = x.reshape(2500)\n",
    "    # Инвентируем изображение\n",
    "    x = 255 - x\n",
    "    # Нормализуем изображение\n",
    "    x /= 255\n",
    "    return (x)\n",
    "\n",
    "\n",
    "for i in range(20):\n",
    "    \"\"\"Добавляем в массив (тренировочные данные) 20 изображений из локальной папки photo_ns\"\"\"\n",
    "    X_train.append(transformation('train_data/a{}.png'.format(i)))\n",
    "    \n",
    "X_train = np.array(X_train)\n",
    "\n",
    "# Ответ на тренировачные данные.\n",
    "y_train = np.array([0, 0, 1, 0, 1, 1, 1, 1, 0, 0, 0, 0, 0, 1, 1, 0, 1, 0, 0, 1])\n",
    "X_test = []\n",
    "\n",
    "for i in range(10):\n",
    "    \"\"\"Добавляем в массив (тестовые данные) 16 изображений\"\"\"\n",
    "    X_test.append(transformation('test_data/test{}.png'.format(i)))\n",
    "\n",
    "X_test = np.array(X_test)\n",
    "# Ответ на тестовые данные.\n",
    "y_test = np.array([1, 0, 1, 0, 1, 1, 0, 0, 1, 1])"
   ]
  },
  {
   "cell_type": "code",
   "execution_count": 10,
   "metadata": {},
   "outputs": [],
   "source": [
    "class Perceptron:\n",
    "    \"\"\"Класс реализующий Перцептрон\"\"\"\n",
    "\n",
    "    def __init__(self, learning_rate=0.01, epochs=1000):\n",
    "        \"\"\"\n",
    "        Конструктор\n",
    "        \n",
    "        :param learning_rate: Скорость обучения\n",
    "        :param epochs:        Количество эпох\n",
    "        :param weights:       Веса\n",
    "        :param bias:          Порог\n",
    "        \"\"\"\n",
    "        self.lr = learning_rate \n",
    "        self.epochs = epochs     \n",
    "        self.weights = None      \n",
    "        self.bias = None         \n",
    "\n",
    "    def fit(self, X, y):\n",
    "        \"\"\"\n",
    "        Метод, реализующий обучение\n",
    "        \n",
    "        :param X: Тренировочные данные\n",
    "        :param y: Ответы на тренировочные данные\n",
    "        \"\"\"\n",
    "        n_samples, n_features = X.shape\n",
    "\n",
    "        self.weights = np.random.rand(n_features)\n",
    "        self.bias = 0\n",
    "\n",
    "        for _ in range(self.epochs):\n",
    "            \n",
    "            for idx, x_i in enumerate(X):\n",
    "                y_predicted = self.activation_func(np.dot(x_i, self.weights) + self.bias)\n",
    "                \n",
    "                self.weights += self.lr * (y[idx] - y_predicted) * x_i\n",
    "                self.bias += self.lr * (y[idx] - y_predicted)\n",
    "                \n",
    "    def activation_func(self, x):\n",
    "        \"\"\"\n",
    "        Ступенчатая фунция активации\n",
    "        \n",
    "        :param x: Значение\n",
    "        :return: Возвращает 1 если значение >= 0, иначе 0\n",
    "        \"\"\"\n",
    "        return np.where(x>=0, 1, 0)\n",
    "\n",
    "    def predict(self, X):\n",
    "        \"\"\"\n",
    "        Метод, реализующий прогноз\n",
    "        \n",
    "        :param X: Вектор Значений\n",
    "        :return: Предсказанные Значения\n",
    "        \"\"\"\n",
    "        y_predicted = self.activation_func(np.dot(X, self.weights) + self.bias)\n",
    "        return y_predicted\n",
    "    \n",
    "    def accuracy(self, y_true, y_pred):\n",
    "        \"\"\"\n",
    "        :param y_true: Верные Значения\n",
    "        :param y_pred: Предсказанные Значения\n",
    "        :return: Точность\n",
    "        \"\"\"\n",
    "        accuracy = np.sum(y_true == y_pred) / len(y_true)\n",
    "        return accuracy"
   ]
  },
  {
   "cell_type": "code",
   "execution_count": 13,
   "metadata": {},
   "outputs": [
    {
     "name": "stdout",
     "output_type": "stream",
     "text": [
      "Perceptron classification accuracy: 100.0 %\n"
     ]
    }
   ],
   "source": [
    "\"\"\"\n",
    "Иницализируем объект класса Perceptron. \n",
    "Обучаем его.\n",
    "Получаем предсказанные значения\n",
    "Смотрим точность значений\n",
    "\n",
    "\"\"\"\n",
    "p = Perceptron(learning_rate=0.3, epochs=100)\n",
    "p.fit(X_train, y_train)\n",
    "predictions = p.predict(X_test)\n",
    "accuracy = p.accuracy(y_test, predictions)\n",
    "\n",
    "print(\"Perceptron classification accuracy: {} %\".format(accuracy * 100))"
   ]
  },
  {
   "cell_type": "code",
   "execution_count": null,
   "metadata": {},
   "outputs": [],
   "source": []
  },
  {
   "cell_type": "markdown",
   "metadata": {},
   "source": [
    "### Пример работы нейронной сети:"
   ]
  },
  {
   "cell_type": "code",
   "execution_count": 15,
   "metadata": {},
   "outputs": [
    {
     "data": {
      "image/png": "[encoded data removed]",
      "text/plain": [
       "<IPython.core.display.Image object>"
      ]
     },
     "execution_count": 15,
     "metadata": {
      "image/png": {
       "height": 150,
       "width": 150
      }
     },
     "output_type": "execute_result"
    }
   ],
   "source": [
    "img_path = 'test_data/test0.png'\n",
    "Image(img_path, width=150, height=150)"
   ]
  },
  {
   "cell_type": "code",
   "execution_count": 16,
   "metadata": {},
   "outputs": [],
   "source": [
    "test_image = transformation(img_path)"
   ]
  },
  {
   "cell_type": "code",
   "execution_count": 17,
   "metadata": {},
   "outputs": [
    {
     "name": "stdout",
     "output_type": "stream",
     "text": [
      "Класс:  Крестик\n"
     ]
    }
   ],
   "source": [
    "prediciton = p.predict(test_image)\n",
    "print(\"Класс: \", classes[prediciton])"
   ]
  },
  {
   "cell_type": "code",
   "execution_count": 18,
   "metadata": {},
   "outputs": [
    {
     "data": {
      "image/png": "[encoded data removed]",
      "text/plain": [
       "<IPython.core.display.Image object>"
      ]
     },
     "execution_count": 18,
     "metadata": {
      "image/png": {
       "height": 150,
       "width": 150
      }
     },
     "output_type": "execute_result"
    }
   ],
   "source": [
    "img_path = 'test_data/test3.png'\n",
    "Image(img_path, width=150, height=150)"
   ]
  },
  {
   "cell_type": "code",
   "execution_count": 19,
   "metadata": {},
   "outputs": [
    {
     "name": "stdout",
     "output_type": "stream",
     "text": [
      "Класс:  Нолик\n"
     ]
    }
   ],
   "source": [
    "test_image = transformation(img_path)\n",
    "prediciton = p.predict(test_image)\n",
    "print(\"Класс: \", classes[prediciton])"
   ]
  },
  {
   "cell_type": "code",
   "execution_count": null,
   "metadata": {},
   "outputs": [],
   "source": []
  }
 ],
 "metadata": {
  "kernelspec": {
   "display_name": "Python 3",
   "language": "python",
   "name": "python3"
  },
  "language_info": {
   "codemirror_mode": {
    "name": "ipython",
    "version": 3
   },
   "file_extension": ".py",
   "mimetype": "text/x-python",
   "name": "python",
   "nbconvert_exporter": "python",
   "pygments_lexer": "ipython3",
   "version": "3.6.12"
  }
 },
 "nbformat": 4,
 "nbformat_minor": 4
}
